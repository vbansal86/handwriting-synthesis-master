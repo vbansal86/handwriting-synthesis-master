{
 "cells": [
  {
   "cell_type": "code",
   "execution_count": null,
   "metadata": {},
   "outputs": [],
   "source": [
    "    # demo number 1 - fixed bias, fixed style\n",
    "    lines = lyrics.all_star.split(\"\\n\")\n",
    "    biases = [.75 for i in lines]\n",
    "    styles = [12 for i in lines]\n",
    "\n",
    "    hand.write(\n",
    "        filename='img/all_star.svg',\n",
    "        lines=lines,\n",
    "        biases=biases,\n",
    "        styles=styles,\n",
    "    )\n",
    "\n",
    "    # demo number 2 - fixed bias, varying style\n",
    "    lines = lyrics.downtown.split(\"\\n\")\n",
    "    biases = [.75 for i in lines]\n",
    "    styles = np.cumsum(np.array([len(i) for i in lines]) == 0).astype(int)\n",
    "\n",
    "    hand.write(\n",
    "        filename='img/downtown.svg',\n",
    "        lines=lines,\n",
    "        biases=biases,\n",
    "        styles=styles,\n",
    "    )\n",
    "\n",
    "    # demo number 3 - varying bias, fixed style\n",
    "    lines = lyrics.give_up.split(\"\\n\")\n",
    "    biases = .2*np.flip(np.cumsum([len(i) == 0 for i in lines]), 0)\n",
    "    styles = [7 for i in lines]\n",
    "\n",
    "    hand.write(\n",
    "        filename='img/give_up.svg',\n",
    "        lines=lines,\n",
    "        biases=biases,\n",
    "        styles=styles,\n",
    "    )"
   ]
  },
  {
   "cell_type": "code",
   "execution_count": 2,
   "metadata": {},
   "outputs": [],
   "source": [
    "import pandas as pd"
   ]
  },
  {
   "cell_type": "code",
   "execution_count": 3,
   "metadata": {},
   "outputs": [],
   "source": [
    "df = pd.read_csv('GP_Prescribing_sample_data_file_Presentation_Level.csv')"
   ]
  },
  {
   "cell_type": "code",
   "execution_count": 4,
   "metadata": {},
   "outputs": [
    {
     "data": {
      "text/html": [
       "<div>\n",
       "<style scoped>\n",
       "    .dataframe tbody tr th:only-of-type {\n",
       "        vertical-align: middle;\n",
       "    }\n",
       "\n",
       "    .dataframe tbody tr th {\n",
       "        vertical-align: top;\n",
       "    }\n",
       "\n",
       "    .dataframe thead th {\n",
       "        text-align: right;\n",
       "    }\n",
       "</style>\n",
       "<table border=\"1\" class=\"dataframe\">\n",
       "  <thead>\n",
       "    <tr style=\"text-align: right;\">\n",
       "      <th></th>\n",
       "      <th>SHA</th>\n",
       "      <th>PCT</th>\n",
       "      <th>PRACTICE</th>\n",
       "      <th>BNF CODE</th>\n",
       "      <th>BNF NAME</th>\n",
       "      <th>ITEMS</th>\n",
       "      <th>NIC</th>\n",
       "      <th>ACT COST</th>\n",
       "      <th>QUANTITY</th>\n",
       "      <th>PERIOD</th>\n",
       "    </tr>\n",
       "  </thead>\n",
       "  <tbody>\n",
       "    <tr>\n",
       "      <th>0</th>\n",
       "      <td>Q30</td>\n",
       "      <td>5D7</td>\n",
       "      <td>A86003</td>\n",
       "      <td>0101010G0AAABAB</td>\n",
       "      <td>Co-Magaldrox_Susp 195mg/220mg/5ml S/F</td>\n",
       "      <td>18</td>\n",
       "      <td>52.24</td>\n",
       "      <td>48.71</td>\n",
       "      <td>10000</td>\n",
       "      <td>201206</td>\n",
       "    </tr>\n",
       "    <tr>\n",
       "      <th>1</th>\n",
       "      <td>Q30</td>\n",
       "      <td>5D7</td>\n",
       "      <td>A86003</td>\n",
       "      <td>0101010N0AAAAAA</td>\n",
       "      <td>Antacid/Oxetacaine_Oral Susp S/F</td>\n",
       "      <td>1</td>\n",
       "      <td>97.42</td>\n",
       "      <td>89.77</td>\n",
       "      <td>300</td>\n",
       "      <td>201206</td>\n",
       "    </tr>\n",
       "    <tr>\n",
       "      <th>2</th>\n",
       "      <td>Q30</td>\n",
       "      <td>5D7</td>\n",
       "      <td>A86003</td>\n",
       "      <td>0101010R0AAABAB</td>\n",
       "      <td>Simeticone_Susp 40mg/ml S/F</td>\n",
       "      <td>2</td>\n",
       "      <td>4.90</td>\n",
       "      <td>4.58</td>\n",
       "      <td>100</td>\n",
       "      <td>201206</td>\n",
       "    </tr>\n",
       "    <tr>\n",
       "      <th>3</th>\n",
       "      <td>Q30</td>\n",
       "      <td>5D7</td>\n",
       "      <td>A86003</td>\n",
       "      <td>0101021B0AAAHAH</td>\n",
       "      <td>Gppe Liq_Gaviscon S/F</td>\n",
       "      <td>2</td>\n",
       "      <td>4.45</td>\n",
       "      <td>4.17</td>\n",
       "      <td>1000</td>\n",
       "      <td>201206</td>\n",
       "    </tr>\n",
       "    <tr>\n",
       "      <th>4</th>\n",
       "      <td>Q30</td>\n",
       "      <td>5D7</td>\n",
       "      <td>A86003</td>\n",
       "      <td>0101021B0AAALAL</td>\n",
       "      <td>Sod Algin/Pot Bicarb_Susp (Aniseed) S/F</td>\n",
       "      <td>3</td>\n",
       "      <td>11.80</td>\n",
       "      <td>10.97</td>\n",
       "      <td>1300</td>\n",
       "      <td>201206</td>\n",
       "    </tr>\n",
       "  </tbody>\n",
       "</table>\n",
       "</div>"
      ],
      "text/plain": [
       "   SHA  PCT PRACTICE         BNF CODE  \\\n",
       "0  Q30  5D7   A86003  0101010G0AAABAB   \n",
       "1  Q30  5D7   A86003  0101010N0AAAAAA   \n",
       "2  Q30  5D7   A86003  0101010R0AAABAB   \n",
       "3  Q30  5D7   A86003  0101021B0AAAHAH   \n",
       "4  Q30  5D7   A86003  0101021B0AAALAL   \n",
       "\n",
       "  BNF NAME                                      ITEMS    NIC          \\\n",
       "0     Co-Magaldrox_Susp 195mg/220mg/5ml S/F          18        52.24   \n",
       "1     Antacid/Oxetacaine_Oral Susp S/F                1        97.42   \n",
       "2     Simeticone_Susp 40mg/ml S/F                     2         4.90   \n",
       "3     Gppe Liq_Gaviscon S/F                           2         4.45   \n",
       "4     Sod Algin/Pot Bicarb_Susp (Aniseed) S/F         3        11.80   \n",
       "\n",
       "   ACT COST     QUANTITY  PERIOD  \n",
       "0        48.71     10000  201206  \n",
       "1        89.77       300  201206  \n",
       "2         4.58       100  201206  \n",
       "3         4.17      1000  201206  \n",
       "4        10.97      1300  201206  "
      ]
     },
     "execution_count": 4,
     "metadata": {},
     "output_type": "execute_result"
    }
   ],
   "source": [
    "df.head()"
   ]
  },
  {
   "cell_type": "code",
   "execution_count": 13,
   "metadata": {},
   "outputs": [],
   "source": [
    "lines =  df['BNF NAME                                    '].astype(str)"
   ]
  },
  {
   "cell_type": "code",
   "execution_count": 14,
   "metadata": {},
   "outputs": [
    {
     "data": {
      "text/plain": [
       "0    Co-Magaldrox_Susp 195mg/220mg/5ml S/F   \n",
       "1    Antacid/Oxetacaine_Oral Susp S/F        \n",
       "2    Simeticone_Susp 40mg/ml S/F             \n",
       "3    Gppe Liq_Gaviscon S/F                   \n",
       "4    Sod Algin/Pot Bicarb_Susp (Aniseed) S/F \n",
       "5    Gastrocote_Tab                          \n",
       "6    Gaviscon Infant_Sach 2g (Dual Pack) S/F \n",
       "7    Gaviscon Advance_Liq (Aniseed) S/F      \n",
       "8    Gaviscon Advance_Liq (Peppermint) S/F   \n",
       "9    Gaviscon Advance_Tab Chble 500mg Mint   \n",
       "Name: BNF NAME                                    , dtype: object"
      ]
     },
     "execution_count": 14,
     "metadata": {},
     "output_type": "execute_result"
    }
   ],
   "source": [
    "lines"
   ]
  },
  {
   "cell_type": "code",
   "execution_count": 11,
   "metadata": {},
   "outputs": [
    {
     "data": {
      "text/plain": [
       "pandas.core.frame.DataFrame"
      ]
     },
     "execution_count": 11,
     "metadata": {},
     "output_type": "execute_result"
    }
   ],
   "source": [
    "type(df1)"
   ]
  },
  {
   "cell_type": "code",
   "execution_count": 12,
   "metadata": {},
   "outputs": [
    {
     "data": {
      "text/plain": [
       "0    Co-Magaldrox_Susp 195mg/220mg/5ml S/F   \n",
       "1    Antacid/Oxetacaine_Oral Susp S/F        \n",
       "2    Simeticone_Susp 40mg/ml S/F             \n",
       "3    Gppe Liq_Gaviscon S/F                   \n",
       "4    Sod Algin/Pot Bicarb_Susp (Aniseed) S/F \n",
       "5    Gastrocote_Tab                          \n",
       "6    Gaviscon Infant_Sach 2g (Dual Pack) S/F \n",
       "7    Gaviscon Advance_Liq (Aniseed) S/F      \n",
       "8    Gaviscon Advance_Liq (Peppermint) S/F   \n",
       "9    Gaviscon Advance_Tab Chble 500mg Mint   \n",
       "Name: BNF NAME                                    , dtype: object"
      ]
     },
     "execution_count": 12,
     "metadata": {},
     "output_type": "execute_result"
    }
   ],
   "source": []
  },
  {
   "cell_type": "code",
   "execution_count": null,
   "metadata": {},
   "outputs": [],
   "source": []
  }
 ],
 "metadata": {
  "kernelspec": {
   "display_name": "Python 3",
   "language": "python",
   "name": "python3"
  },
  "language_info": {
   "codemirror_mode": {
    "name": "ipython",
    "version": 3
   },
   "file_extension": ".py",
   "mimetype": "text/x-python",
   "name": "python",
   "nbconvert_exporter": "python",
   "pygments_lexer": "ipython3",
   "version": "3.5.4"
  }
 },
 "nbformat": 4,
 "nbformat_minor": 2
}
