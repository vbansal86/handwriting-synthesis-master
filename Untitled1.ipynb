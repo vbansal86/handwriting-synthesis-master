{
 "cells": [
  {
   "cell_type": "code",
   "execution_count": 10,
   "metadata": {},
   "outputs": [
    {
     "name": "stdout",
     "output_type": "stream",
     "text": [
      "<svg baseProfile=\"full\" height=\"600px\" version=\"1.1\" width=\"800px\" xmlns=\"http://www.w3.org/2000/svg\" xmlns:ev=\"http://www.w3.org/2001/xml-events\" xmlns:xlink=\"http://www.w3.org/1999/xlink\"><defs /><rect fill=\"rgb(255,255,0)\" height=\"100px\" stroke=\"black\" stroke-width=\"2\" width=\"200px\" x=\"250\" y=\"50\" /><text x=\"210\" y=\"110\">Hello World</text></svg>\n"
     ]
    }
   ],
   "source": [
    "import svgwrite\n",
    "\n",
    "svg_document = svgwrite.Drawing(filename = \"test-svgwrite.svg\",\n",
    "                                size = (\"800px\", \"600px\"))\n",
    "\n",
    "svg_document.add(svg_document.rect(insert = (250, 50),\n",
    "                                   size = (\"200px\", \"100px\"),\n",
    "                                   stroke_width = \"2\",\n",
    "                                   stroke = \"black\",\n",
    "                                   fill = \"rgb(255,255,0)\"))\n",
    "\n",
    "svg_document.add(svg_document.text(\"Hello World\",\n",
    "                                   insert = (210, 110)))\n",
    "\n",
    "print(svg_document.tostring())\n",
    "\n",
    "svg_document.save()"
   ]
  },
  {
   "cell_type": "code",
   "execution_count": 13,
   "metadata": {},
   "outputs": [],
   "source": [
    "import cv2"
   ]
  },
  {
   "cell_type": "code",
   "execution_count": null,
   "metadata": {},
   "outputs": [],
   "source": [
    "cv2.putText()"
   ]
  }
 ],
 "metadata": {
  "kernelspec": {
   "display_name": "Python 3",
   "language": "python",
   "name": "python3"
  },
  "language_info": {
   "codemirror_mode": {
    "name": "ipython",
    "version": 3
   },
   "file_extension": ".py",
   "mimetype": "text/x-python",
   "name": "python",
   "nbconvert_exporter": "python",
   "pygments_lexer": "ipython3",
   "version": "3.5.4"
  }
 },
 "nbformat": 4,
 "nbformat_minor": 2
}
